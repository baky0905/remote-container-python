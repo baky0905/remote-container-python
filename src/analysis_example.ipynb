{
 "metadata": {
  "language_info": {
   "codemirror_mode": {
    "name": "ipython",
    "version": 3
   },
   "file_extension": ".py",
   "mimetype": "text/x-python",
   "name": "python",
   "nbconvert_exporter": "python",
   "pygments_lexer": "ipython3",
   "version": "3.7.9-final"
  },
  "orig_nbformat": 2,
  "kernelspec": {
   "name": "python_defaultSpec_1598337605624",
   "display_name": "Python 3.7.9 64-bit"
  }
 },
 "nbformat": 4,
 "nbformat_minor": 2,
 "cells": [
  {
   "cell_type": "markdown",
   "metadata": {},
   "source": [
    "# Question:"
   ]
  },
  {
   "cell_type": "markdown",
   "metadata": {},
   "source": [
    "## What is the gross annual produced hydrocarbons on Norwegian Continental Shelf through time?"
   ]
  },
  {
   "cell_type": "code",
   "execution_count": null,
   "metadata": {},
   "outputs": [],
   "source": [
    "import numpy as np\n",
    "import pandas as pd\n",
    "import janitor"
   ]
  },
  {
   "cell_type": "code",
   "execution_count": null,
   "metadata": {},
   "outputs": [],
   "source": [
    "production_wellbores_monthly =  pd.read_csv(\"https://factpages.npd.no/ReportServer_npdpublic?/FactPages/TableView/field_production_gross_monthly&rs:Command=Render&rc:Toolbar=false&rc:Parameters=f&rs:Format=CSV&Top100=false&IpAddress=82.102.27.204&CultureCode=en\")\n",
    "production_wellbores_monthly.head()"
   ]
  },
  {
   "cell_type": "code",
   "execution_count": null,
   "metadata": {},
   "outputs": [],
   "source": [
    "production_wellbores_monthly.columns = production_wellbores_monthly.columns.str.replace(\"prf\", \"\")\n",
    "production_wellbores_monthly = production_wellbores_monthly.clean_names(case_type=\"snake\")"
   ]
  },
  {
   "cell_type": "code",
   "execution_count": null,
   "metadata": {},
   "outputs": [],
   "source": [
    "production_wellbores_monthly_LONG = (production_wellbores_monthly\n",
    "    .drop(columns=[\"information_carrier\", \"npdid_information_carrier\", \"prd_oe_gross_mill_sm3\"])\n",
    "    .melt(\n",
    "        id_vars=[\"year\", \"month\"],\n",
    "        var_name=\"hc_phase\",\n",
    "        value_name=\"prd_gross_mill_sm3\"\n",
    "        )\n",
    "    .groupby([\"year\", \"hc_phase\"])\n",
    "    .agg(prd_gross_mill_sm3_year = pd.NamedAgg(column=\"prd_gross_mill_sm3\", aggfunc=\"sum\"))\n",
    "    .reset_index()\n",
    "    ).sort_values([\"year\", \"hc_phase\"])"
   ]
  },
  {
   "cell_type": "code",
   "execution_count": null,
   "metadata": {},
   "outputs": [],
   "source": [
    "production_wellbores_monthly_LONG.head()"
   ]
  },
  {
   "cell_type": "code",
   "execution_count": null,
   "metadata": {},
   "outputs": [],
   "source": [
    "import altair as alt\n",
    "alt.data_transformers.disable_max_rows() # default is 5000 rows warning\n",
    "#alt.renderers.enable('notebook')\n",
    "\n",
    "domain = ['prd_condensate_gross_mill_sm3', 'prd_gas_gross_bill_sm3',\n",
    "       'prd_oil_gross_mill_sm3', 'prd_produced_water_in_field_mill_sm3']\n",
    "range_ = ['pink', 'red', 'green', 'blue']\n",
    "\n",
    "annual_production_plot = (alt\n",
    "    .Chart(production_wellbores_monthly_LONG)\n",
    "    .mark_bar(opacity=0.3)\n",
    "    .encode(\n",
    "        x=\"year:Q\",\n",
    "        y=\"prd_gross_mill_sm3_year:Q\",\n",
    "        color=alt.Color('hc_phase', scale=alt.Scale(domain=domain, range=range_)),\n",
    "        row=\"hc_phase:N\"\n",
    "        )\n",
    "    .properties(height=100)\n",
    ")\n",
    "\n",
    "annual_production_plot"
   ]
  },
  {
   "cell_type": "code",
   "execution_count": null,
   "metadata": {},
   "outputs": [],
   "source": [
    "(annual_production_plot\n",
    "    .encode(tooltip=['prd_gross_mill_sm3_year', 'year', 'hc_phase'])\n",
    "    .interactive())"
   ]
  }
 ]
}